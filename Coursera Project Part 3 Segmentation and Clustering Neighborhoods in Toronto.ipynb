{
 "cells": [
  {
   "cell_type": "markdown",
   "metadata": {},
   "source": [
    "## Coursera Capstone Part 3: Segmenting and Clustering Neighborhoods in Toronto "
   ]
  },
  {
   "cell_type": "markdown",
   "metadata": {},
   "source": [
    "### Part 3\n",
    "D. *Execute K- Means Algorithm for segmenting and clustering.*\n",
    "\n",
    "E. *Use a map to visualize colorized clusters of neigborhoods in Toronto.*  "
   ]
  },
  {
   "cell_type": "markdown",
   "metadata": {},
   "source": [
    "#### Install Libraries for Part 3"
   ]
  },
  {
   "cell_type": "code",
   "execution_count": 15,
   "metadata": {},
   "outputs": [
    {
     "name": "stdout",
     "output_type": "stream",
     "text": [
      "Requirement already satisfied: bs4 in c:\\programdata\\anaconda3\\lib\\site-packages (0.0.1)\n",
      "Requirement already satisfied: beautifulsoup4 in c:\\programdata\\anaconda3\\lib\\site-packages (from bs4) (4.9.1)\n",
      "Requirement already satisfied: soupsieve>1.2 in c:\\programdata\\anaconda3\\lib\\site-packages (from beautifulsoup4->bs4) (2.0.1)\n",
      "Libraries imported.\n"
     ]
    }
   ],
   "source": [
    "!pip install bs4\n",
    "from bs4 import BeautifulSoup\n",
    "import requests \n",
    "import pandas as pd \n",
    "import numpy as np \n",
    "\n",
    "print('Libraries imported.')"
   ]
  },
  {
   "cell_type": "code",
   "execution_count": 16,
   "metadata": {},
   "outputs": [
    {
     "data": {
      "text/html": [
       "<div>\n",
       "<style scoped>\n",
       "    .dataframe tbody tr th:only-of-type {\n",
       "        vertical-align: middle;\n",
       "    }\n",
       "\n",
       "    .dataframe tbody tr th {\n",
       "        vertical-align: top;\n",
       "    }\n",
       "\n",
       "    .dataframe thead th {\n",
       "        text-align: right;\n",
       "    }\n",
       "</style>\n",
       "<table border=\"1\" class=\"dataframe\">\n",
       "  <thead>\n",
       "    <tr style=\"text-align: right;\">\n",
       "      <th></th>\n",
       "      <th>Unnamed: 0</th>\n",
       "      <th>PostalCode</th>\n",
       "      <th>Borough</th>\n",
       "      <th>Neighborhood</th>\n",
       "      <th>Latitude</th>\n",
       "      <th>Longitude</th>\n",
       "    </tr>\n",
       "  </thead>\n",
       "  <tbody>\n",
       "    <tr>\n",
       "      <th>0</th>\n",
       "      <td>0</td>\n",
       "      <td>M3A</td>\n",
       "      <td>North York</td>\n",
       "      <td>Parkwoods</td>\n",
       "      <td>43.753259</td>\n",
       "      <td>-79.329656</td>\n",
       "    </tr>\n",
       "    <tr>\n",
       "      <th>1</th>\n",
       "      <td>1</td>\n",
       "      <td>M4A</td>\n",
       "      <td>North York</td>\n",
       "      <td>Victoria Village</td>\n",
       "      <td>43.725882</td>\n",
       "      <td>-79.315572</td>\n",
       "    </tr>\n",
       "    <tr>\n",
       "      <th>2</th>\n",
       "      <td>2</td>\n",
       "      <td>M5A</td>\n",
       "      <td>Downtown Toronto</td>\n",
       "      <td>Regent Park, Harbourfront</td>\n",
       "      <td>43.654260</td>\n",
       "      <td>-79.360636</td>\n",
       "    </tr>\n",
       "    <tr>\n",
       "      <th>3</th>\n",
       "      <td>3</td>\n",
       "      <td>M6A</td>\n",
       "      <td>North York</td>\n",
       "      <td>Lawrence Manor, Lawrence Heights</td>\n",
       "      <td>43.718518</td>\n",
       "      <td>-79.464763</td>\n",
       "    </tr>\n",
       "    <tr>\n",
       "      <th>4</th>\n",
       "      <td>4</td>\n",
       "      <td>M7A</td>\n",
       "      <td>Queen's Park</td>\n",
       "      <td>Ontario Provincial Government</td>\n",
       "      <td>43.662301</td>\n",
       "      <td>-79.389494</td>\n",
       "    </tr>\n",
       "  </tbody>\n",
       "</table>\n",
       "</div>"
      ],
      "text/plain": [
       "   Unnamed: 0 PostalCode           Borough                      Neighborhood  \\\n",
       "0           0        M3A        North York                         Parkwoods   \n",
       "1           1        M4A        North York                  Victoria Village   \n",
       "2           2        M5A  Downtown Toronto         Regent Park, Harbourfront   \n",
       "3           3        M6A        North York  Lawrence Manor, Lawrence Heights   \n",
       "4           4        M7A      Queen's Park     Ontario Provincial Government   \n",
       "\n",
       "    Latitude  Longitude  \n",
       "0  43.753259 -79.329656  \n",
       "1  43.725882 -79.315572  \n",
       "2  43.654260 -79.360636  \n",
       "3  43.718518 -79.464763  \n",
       "4  43.662301 -79.389494  "
      ]
     },
     "execution_count": 16,
     "metadata": {},
     "output_type": "execute_result"
    }
   ],
   "source": [
    "#Read Toronto Coordinates data into Data Frame.\n",
    "dfToronto_coord = pd.read_csv('Toronto_coord')\n",
    "dfToronto_coord.head()"
   ]
  },
  {
   "cell_type": "code",
   "execution_count": 17,
   "metadata": {},
   "outputs": [
    {
     "data": {
      "text/html": [
       "<div>\n",
       "<style scoped>\n",
       "    .dataframe tbody tr th:only-of-type {\n",
       "        vertical-align: middle;\n",
       "    }\n",
       "\n",
       "    .dataframe tbody tr th {\n",
       "        vertical-align: top;\n",
       "    }\n",
       "\n",
       "    .dataframe thead th {\n",
       "        text-align: right;\n",
       "    }\n",
       "</style>\n",
       "<table border=\"1\" class=\"dataframe\">\n",
       "  <thead>\n",
       "    <tr style=\"text-align: right;\">\n",
       "      <th></th>\n",
       "      <th>PostalCode</th>\n",
       "      <th>Borough</th>\n",
       "      <th>Neighborhood</th>\n",
       "      <th>Latitude</th>\n",
       "      <th>Longitude</th>\n",
       "    </tr>\n",
       "  </thead>\n",
       "  <tbody>\n",
       "    <tr>\n",
       "      <th>0</th>\n",
       "      <td>M3A</td>\n",
       "      <td>North York</td>\n",
       "      <td>Parkwoods</td>\n",
       "      <td>43.753259</td>\n",
       "      <td>-79.329656</td>\n",
       "    </tr>\n",
       "    <tr>\n",
       "      <th>1</th>\n",
       "      <td>M4A</td>\n",
       "      <td>North York</td>\n",
       "      <td>Victoria Village</td>\n",
       "      <td>43.725882</td>\n",
       "      <td>-79.315572</td>\n",
       "    </tr>\n",
       "    <tr>\n",
       "      <th>2</th>\n",
       "      <td>M5A</td>\n",
       "      <td>Downtown Toronto</td>\n",
       "      <td>Regent Park, Harbourfront</td>\n",
       "      <td>43.654260</td>\n",
       "      <td>-79.360636</td>\n",
       "    </tr>\n",
       "    <tr>\n",
       "      <th>3</th>\n",
       "      <td>M6A</td>\n",
       "      <td>North York</td>\n",
       "      <td>Lawrence Manor, Lawrence Heights</td>\n",
       "      <td>43.718518</td>\n",
       "      <td>-79.464763</td>\n",
       "    </tr>\n",
       "    <tr>\n",
       "      <th>4</th>\n",
       "      <td>M7A</td>\n",
       "      <td>Queen's Park</td>\n",
       "      <td>Ontario Provincial Government</td>\n",
       "      <td>43.662301</td>\n",
       "      <td>-79.389494</td>\n",
       "    </tr>\n",
       "  </tbody>\n",
       "</table>\n",
       "</div>"
      ],
      "text/plain": [
       "  PostalCode           Borough                      Neighborhood   Latitude  \\\n",
       "0        M3A        North York                         Parkwoods  43.753259   \n",
       "1        M4A        North York                  Victoria Village  43.725882   \n",
       "2        M5A  Downtown Toronto         Regent Park, Harbourfront  43.654260   \n",
       "3        M6A        North York  Lawrence Manor, Lawrence Heights  43.718518   \n",
       "4        M7A      Queen's Park     Ontario Provincial Government  43.662301   \n",
       "\n",
       "   Longitude  \n",
       "0 -79.329656  \n",
       "1 -79.315572  \n",
       "2 -79.360636  \n",
       "3 -79.464763  \n",
       "4 -79.389494  "
      ]
     },
     "execution_count": 17,
     "metadata": {},
     "output_type": "execute_result"
    }
   ],
   "source": [
    "#Drop first colunm of Toronto dataset \n",
    "dfToronto_coord = dfToronto_coord.drop(dfToronto_coord.columns[[0,]], axis=1)\n",
    "dfToronto_coord.head()"
   ]
  },
  {
   "cell_type": "code",
   "execution_count": 8,
   "metadata": {},
   "outputs": [
    {
     "data": {
      "text/html": [
       "<div>\n",
       "<style scoped>\n",
       "    .dataframe tbody tr th:only-of-type {\n",
       "        vertical-align: middle;\n",
       "    }\n",
       "\n",
       "    .dataframe tbody tr th {\n",
       "        vertical-align: top;\n",
       "    }\n",
       "\n",
       "    .dataframe thead th {\n",
       "        text-align: right;\n",
       "    }\n",
       "</style>\n",
       "<table border=\"1\" class=\"dataframe\">\n",
       "  <thead>\n",
       "    <tr style=\"text-align: right;\">\n",
       "      <th></th>\n",
       "      <th>PostalCode</th>\n",
       "      <th>Borough</th>\n",
       "      <th>Neighborhood</th>\n",
       "      <th>Latitude</th>\n",
       "      <th>Longitude</th>\n",
       "    </tr>\n",
       "  </thead>\n",
       "  <tbody>\n",
       "    <tr>\n",
       "      <th>2</th>\n",
       "      <td>M5A</td>\n",
       "      <td>Downtown Toronto</td>\n",
       "      <td>Regent Park, Harbourfront</td>\n",
       "      <td>43.654260</td>\n",
       "      <td>-79.360636</td>\n",
       "    </tr>\n",
       "    <tr>\n",
       "      <th>9</th>\n",
       "      <td>M5B</td>\n",
       "      <td>Downtown Toronto</td>\n",
       "      <td>Garden District, Ryerson</td>\n",
       "      <td>43.657162</td>\n",
       "      <td>-79.378937</td>\n",
       "    </tr>\n",
       "    <tr>\n",
       "      <th>15</th>\n",
       "      <td>M5C</td>\n",
       "      <td>Downtown Toronto</td>\n",
       "      <td>St. James Town</td>\n",
       "      <td>43.651494</td>\n",
       "      <td>-79.375418</td>\n",
       "    </tr>\n",
       "    <tr>\n",
       "      <th>19</th>\n",
       "      <td>M4E</td>\n",
       "      <td>East Toronto</td>\n",
       "      <td>The Beaches</td>\n",
       "      <td>43.676357</td>\n",
       "      <td>-79.293031</td>\n",
       "    </tr>\n",
       "    <tr>\n",
       "      <th>20</th>\n",
       "      <td>M5E</td>\n",
       "      <td>Downtown Toronto</td>\n",
       "      <td>Berczy Park</td>\n",
       "      <td>43.644771</td>\n",
       "      <td>-79.373306</td>\n",
       "    </tr>\n",
       "  </tbody>\n",
       "</table>\n",
       "</div>"
      ],
      "text/plain": [
       "   PostalCode           Borough               Neighborhood   Latitude  \\\n",
       "2         M5A  Downtown Toronto  Regent Park, Harbourfront  43.654260   \n",
       "9         M5B  Downtown Toronto   Garden District, Ryerson  43.657162   \n",
       "15        M5C  Downtown Toronto             St. James Town  43.651494   \n",
       "19        M4E      East Toronto                The Beaches  43.676357   \n",
       "20        M5E  Downtown Toronto                Berczy Park  43.644771   \n",
       "\n",
       "    Longitude  \n",
       "2  -79.360636  \n",
       "9  -79.378937  \n",
       "15 -79.375418  \n",
       "19 -79.293031  \n",
       "20 -79.373306  "
      ]
     },
     "execution_count": 8,
     "metadata": {},
     "output_type": "execute_result"
    }
   ],
   "source": [
    "#Create data frame with all rows which contain Toronto in their Borough.\n",
    "dfBoroughToronto = dfToronto_coord[dfToronto_coord['Borough'].str.contains('Toronto')]\n",
    "dfBoroughToronto.head()"
   ]
  },
  {
   "cell_type": "markdown",
   "metadata": {},
   "source": [
    "#### Intstall Libraries for Clustering and Visualization"
   ]
  },
  {
   "cell_type": "code",
   "execution_count": 11,
   "metadata": {},
   "outputs": [
    {
     "name": "stdout",
     "output_type": "stream",
     "text": [
      "Requirement already satisfied: geocoder in c:\\programdata\\anaconda3\\lib\\site-packages (1.38.1)\n",
      "Requirement already satisfied: ratelim in c:\\programdata\\anaconda3\\lib\\site-packages (from geocoder) (0.1.6)\n",
      "Requirement already satisfied: future in c:\\programdata\\anaconda3\\lib\\site-packages (from geocoder) (0.18.2)\n",
      "Requirement already satisfied: six in c:\\programdata\\anaconda3\\lib\\site-packages (from geocoder) (1.15.0)\n",
      "Requirement already satisfied: click in c:\\programdata\\anaconda3\\lib\\site-packages (from geocoder) (7.1.2)\n",
      "Requirement already satisfied: requests in c:\\programdata\\anaconda3\\lib\\site-packages (from geocoder) (2.24.0)\n",
      "Requirement already satisfied: decorator in c:\\programdata\\anaconda3\\lib\\site-packages (from ratelim->geocoder) (4.4.2)\n",
      "Requirement already satisfied: idna<3,>=2.5 in c:\\programdata\\anaconda3\\lib\\site-packages (from requests->geocoder) (2.10)\n",
      "Requirement already satisfied: chardet<4,>=3.0.2 in c:\\programdata\\anaconda3\\lib\\site-packages (from requests->geocoder) (3.0.4)\n",
      "Requirement already satisfied: certifi>=2017.4.17 in c:\\programdata\\anaconda3\\lib\\site-packages (from requests->geocoder) (2020.6.20)\n",
      "Requirement already satisfied: urllib3!=1.25.0,!=1.25.1,<1.26,>=1.21.1 in c:\\programdata\\anaconda3\\lib\\site-packages (from requests->geocoder) (1.25.9)\n"
     ]
    },
    {
     "name": "stderr",
     "output_type": "stream",
     "text": [
      "\n",
      "\n",
      "==> WARNING: A newer version of conda exists. <==\n",
      "  current version: 4.8.3\n",
      "  latest version: 4.10.1\n",
      "\n",
      "Please update conda by running\n",
      "\n",
      "    $ conda update -n base -c defaults conda\n",
      "\n",
      "\n",
      "\n",
      "EnvironmentNotWritableError: The current user does not have write permissions to the target environment.\n",
      "  environment location: C:\\ProgramData\\Anaconda3\n",
      "\n",
      "\n"
     ]
    },
    {
     "name": "stdout",
     "output_type": "stream",
     "text": [
      "Collecting package metadata (current_repodata.json): ...working... done\n",
      "Solving environment: ...working... failed with initial frozen solve. Retrying with flexible solve.\n",
      "Collecting package metadata (repodata.json): ...working... done\n",
      "Solving environment: ...working... done\n",
      "\n",
      "## Package Plan ##\n",
      "\n",
      "  environment location: C:\\ProgramData\\Anaconda3\n",
      "\n",
      "  added / updated specs:\n",
      "    - folium=0.5.0\n",
      "\n",
      "\n",
      "The following NEW packages will be INSTALLED:\n",
      "\n",
      "  altair             conda-forge/noarch::altair-4.1.0-py_1\n",
      "  branca             conda-forge/noarch::branca-0.4.2-pyhd8ed1ab_0\n",
      "  folium             conda-forge/noarch::folium-0.5.0-py_0\n",
      "  python_abi         conda-forge/win-64::python_abi-3.8-1_cp38\n",
      "  vincent            conda-forge/noarch::vincent-0.4.4-py_1\n",
      "\n",
      "The following packages will be UPDATED:\n",
      "\n",
      "  conda                       pkgs/main::conda-4.8.3-py38_0 --> conda-forge::conda-4.10.1-py38haa244fe_0\n",
      "\n",
      "The following packages will be SUPERSEDED by a higher-priority channel:\n",
      "\n",
      "  openssl                                         pkgs/main --> conda-forge\n",
      "\n",
      "\n",
      "Preparing transaction: ...working... done\n",
      "Verifying transaction: ...working... failed\n",
      "Folium installed\n",
      "Libraries imported.\n"
     ]
    }
   ],
   "source": [
    "!pip install geocoder\n",
    "!conda install -c conda-forge folium=0.5.0 --yes\n",
    "\n",
    "import geocoder\n",
    "import folium \n",
    "import matplotlib.pyplot as plt\n",
    "from matplotlib import cm\n",
    "from matplotlib.colors import ListedColormap, LinearSegmentedColormap\n",
    "from sklearn.cluster import KMeans\n",
    "\n",
    "print('Folium installed')\n",
    "print('Libraries imported.')"
   ]
  },
  {
   "cell_type": "code",
   "execution_count": 13,
   "metadata": {},
   "outputs": [
    {
     "name": "stdout",
     "output_type": "stream",
     "text": [
      "latitude 43.648690000000045 longitude -79.38543999999996\n"
     ]
    }
   ],
   "source": [
    "# Get coordinates for Toronto\n",
    "\n",
    "g = geocoder.arcgis('Toronto, Ontario')\n",
    "lat_lng_coords = g.latlng\n",
    "latitude = lat_lng_coords[0]\n",
    "longitude = lat_lng_coords[1]\n",
    "\n",
    "print('latitude',latitude,'longitude',longitude)"
   ]
  },
  {
   "cell_type": "code",
   "execution_count": 14,
   "metadata": {
    "scrolled": true
   },
   "outputs": [
    {
     "data": {
      "text/html": [
       "<div style=\"width:100%;\"><div style=\"position:relative;width:100%;height:0;padding-bottom:60%;\"><span style=\"color:#565656\">Make this Notebook Trusted to load map: File -> Trust Notebook</span><iframe src=\"about:blank\" style=\"position:absolute;width:100%;height:100%;left:0;top:0;border:none !important;\" data-html=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 onload=\"this.contentDocument.open();this.contentDocument.write(atob(this.getAttribute('data-html')));this.contentDocument.close();\" allowfullscreen webkitallowfullscreen mozallowfullscreen></iframe></div></div>"
      ],
      "text/plain": [
       "<folium.folium.Map at 0x2c9bd3ef460>"
      ]
     },
     "execution_count": 14,
     "metadata": {},
     "output_type": "execute_result"
    }
   ],
   "source": [
    "# Create map of Toronto by using Folium\n",
    "\n",
    "map_toronto = folium.Map(location=[latitude, longitude], zoom_start=10)\n",
    "\n",
    "\n",
    "# Add markers to the map\n",
    "for lat, lng, borough, neighbourhood in zip(dfBoroughToronto['Latitude'],dfBoroughToronto['Longitude'],dfBoroughToronto['Borough'],dfBoroughToronto['Neighborhood']):\n",
    "    label = '{}, {}'.format(neighbourhood, borough)\n",
    "    label = folium.Popup(label, parse_html=True)\n",
    "    folium.CircleMarker(\n",
    "        [lat,lng],\n",
    "        radius=5,\n",
    "        popup=label,\n",
    "        color='blue',\n",
    "        fill=True,\n",
    "        fill_color='#3186cc',\n",
    "        fill_opacity=0.7,\n",
    "        parse_html=False).add_to(map_toronto)\n",
    "    \n",
    "map_toronto"
   ]
  },
  {
   "cell_type": "markdown",
   "metadata": {},
   "source": [
    "### D. Execute K- Means Algorithm for segmenting and clustering."
   ]
  },
  {
   "cell_type": "code",
   "execution_count": 18,
   "metadata": {},
   "outputs": [
    {
     "data": {
      "text/plain": [
       "array([3, 3, 3, 2, 3, 3, 4, 3, 1, 3, 4, 0, 3, 4, 2, 3, 2, 5, 5, 5, 5, 1,\n",
       "       5, 4, 1, 5, 4, 1, 0, 4, 5, 3, 0, 3, 0, 3, 0, 2])"
      ]
     },
     "execution_count": 18,
     "metadata": {},
     "output_type": "execute_result"
    }
   ],
   "source": [
    "# Using K-Means for clustering of the Neighborhoods\n",
    "\n",
    "k = 6\n",
    "dfToronto_cluster = dfBoroughToronto.drop(['PostalCode','Borough','Neighborhood'],1)\n",
    "kmeans = KMeans(n_clusters = k,random_state=0).fit(dfToronto_cluster)\n",
    "kmeans.labels_"
   ]
  },
  {
   "cell_type": "code",
   "execution_count": 19,
   "metadata": {},
   "outputs": [
    {
     "data": {
      "text/html": [
       "<div>\n",
       "<style scoped>\n",
       "    .dataframe tbody tr th:only-of-type {\n",
       "        vertical-align: middle;\n",
       "    }\n",
       "\n",
       "    .dataframe tbody tr th {\n",
       "        vertical-align: top;\n",
       "    }\n",
       "\n",
       "    .dataframe thead th {\n",
       "        text-align: right;\n",
       "    }\n",
       "</style>\n",
       "<table border=\"1\" class=\"dataframe\">\n",
       "  <thead>\n",
       "    <tr style=\"text-align: right;\">\n",
       "      <th></th>\n",
       "      <th>ClusterLabels</th>\n",
       "      <th>PostalCode</th>\n",
       "      <th>Borough</th>\n",
       "      <th>Neighborhood</th>\n",
       "      <th>Latitude</th>\n",
       "      <th>Longitude</th>\n",
       "    </tr>\n",
       "  </thead>\n",
       "  <tbody>\n",
       "    <tr>\n",
       "      <th>2</th>\n",
       "      <td>3</td>\n",
       "      <td>M5A</td>\n",
       "      <td>Downtown Toronto</td>\n",
       "      <td>Regent Park, Harbourfront</td>\n",
       "      <td>43.654260</td>\n",
       "      <td>-79.360636</td>\n",
       "    </tr>\n",
       "    <tr>\n",
       "      <th>9</th>\n",
       "      <td>3</td>\n",
       "      <td>M5B</td>\n",
       "      <td>Downtown Toronto</td>\n",
       "      <td>Garden District, Ryerson</td>\n",
       "      <td>43.657162</td>\n",
       "      <td>-79.378937</td>\n",
       "    </tr>\n",
       "    <tr>\n",
       "      <th>15</th>\n",
       "      <td>3</td>\n",
       "      <td>M5C</td>\n",
       "      <td>Downtown Toronto</td>\n",
       "      <td>St. James Town</td>\n",
       "      <td>43.651494</td>\n",
       "      <td>-79.375418</td>\n",
       "    </tr>\n",
       "    <tr>\n",
       "      <th>19</th>\n",
       "      <td>2</td>\n",
       "      <td>M4E</td>\n",
       "      <td>East Toronto</td>\n",
       "      <td>The Beaches</td>\n",
       "      <td>43.676357</td>\n",
       "      <td>-79.293031</td>\n",
       "    </tr>\n",
       "    <tr>\n",
       "      <th>20</th>\n",
       "      <td>3</td>\n",
       "      <td>M5E</td>\n",
       "      <td>Downtown Toronto</td>\n",
       "      <td>Berczy Park</td>\n",
       "      <td>43.644771</td>\n",
       "      <td>-79.373306</td>\n",
       "    </tr>\n",
       "  </tbody>\n",
       "</table>\n",
       "</div>"
      ],
      "text/plain": [
       "    ClusterLabels PostalCode           Borough               Neighborhood  \\\n",
       "2               3        M5A  Downtown Toronto  Regent Park, Harbourfront   \n",
       "9               3        M5B  Downtown Toronto   Garden District, Ryerson   \n",
       "15              3        M5C  Downtown Toronto             St. James Town   \n",
       "19              2        M4E      East Toronto                The Beaches   \n",
       "20              3        M5E  Downtown Toronto                Berczy Park   \n",
       "\n",
       "     Latitude  Longitude  \n",
       "2   43.654260 -79.360636  \n",
       "9   43.657162 -79.378937  \n",
       "15  43.651494 -79.375418  \n",
       "19  43.676357 -79.293031  \n",
       "20  43.644771 -79.373306  "
      ]
     },
     "execution_count": 19,
     "metadata": {},
     "output_type": "execute_result"
    }
   ],
   "source": [
    "dfBoroughToronto.insert(0, 'ClusterLabels', kmeans.labels_)\n",
    "dfBoroughToronto.head()"
   ]
  },
  {
   "cell_type": "markdown",
   "metadata": {},
   "source": [
    "### E. Use a map to visualize colorized clusters of neigborhoods in Toronto. "
   ]
  },
  {
   "cell_type": "code",
   "execution_count": 20,
   "metadata": {},
   "outputs": [
    {
     "data": {
      "text/html": [
       "<div style=\"width:100%;\"><div style=\"position:relative;width:100%;height:0;padding-bottom:60%;\"><span style=\"color:#565656\">Make this Notebook Trusted to load map: File -> Trust Notebook</span><iframe src=\"about:blank\" style=\"position:absolute;width:100%;height:100%;left:0;top:0;border:none !important;\" data-html=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 onload=\"this.contentDocument.open();this.contentDocument.write(atob(this.getAttribute('data-html')));this.contentDocument.close();\" allowfullscreen webkitallowfullscreen mozallowfullscreen></iframe></div></div>"
      ],
      "text/plain": [
       "<folium.folium.Map at 0x2c9bd4a7af0>"
      ]
     },
     "execution_count": 20,
     "metadata": {},
     "output_type": "execute_result"
    }
   ],
   "source": [
    "import matplotlib.colors as colors\n",
    "\n",
    "\n",
    "# Create map\n",
    "mapToronto_cluster = folium.Map(location=[latitude, longitude],zoom_start=10)\n",
    "\n",
    "\n",
    "# Set colors for clusters\n",
    "x = np.arange(k)\n",
    "ys = [i + x + (i*x)**2 for i in range(k)]\n",
    "colors_array = cm.rainbow(np.linspace(0, 1, len(ys)))\n",
    "rainbow = [colors.rgb2hex(i) for i in colors_array]\n",
    "\n",
    "\n",
    "# Add markers   \n",
    "markers_colors = []\n",
    "\n",
    "for lat, lng, neighborhood, cluster in zip(dfBoroughToronto['Latitude'], dfBoroughToronto['Longitude'], dfBoroughToronto['Neighborhood'], dfBoroughToronto['ClusterLabels']):\n",
    "    label = folium.Popup(' Cluster ' + str(cluster), parse_html=True)\n",
    "    folium.CircleMarker(\n",
    "        [lat, lng],\n",
    "        radius=5,\n",
    "        popup=label,\n",
    "        color=rainbow[cluster-1],\n",
    "        fill=True,\n",
    "        fill_color=rainbow[cluster-1],\n",
    "        fill_opacity=0.7).add_to(mapToronto_cluster)\n",
    "\n",
    "    \n",
    "mapToronto_cluster"
   ]
  }
 ],
 "metadata": {
  "kernelspec": {
   "display_name": "Python 3",
   "language": "python",
   "name": "python3"
  },
  "language_info": {
   "codemirror_mode": {
    "name": "ipython",
    "version": 3
   },
   "file_extension": ".py",
   "mimetype": "text/x-python",
   "name": "python",
   "nbconvert_exporter": "python",
   "pygments_lexer": "ipython3",
   "version": "3.8.3"
  }
 },
 "nbformat": 4,
 "nbformat_minor": 4
}
